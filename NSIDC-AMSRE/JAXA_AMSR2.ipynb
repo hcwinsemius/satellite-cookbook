{
 "cells": [
  {
   "cell_type": "markdown",
   "metadata": {},
   "source": [
    "## JAXA AMSR2 DATA RETRIEVAL RECIPE\n",
    "\n",
    "This script is used to download (37 and 89 GHz) passive microwave data from the GCOM-W1 JAXA satellite. It is based on an earlier script for retrieving AMSR-E AQUA/TERRA data from the NSIDC server."
   ]
  },
  {
   "cell_type": "code",
   "execution_count": 1,
   "metadata": {},
   "outputs": [
    {
     "name": "stdout",
     "output_type": "stream",
     "text": [
      "The autoreload extension is already loaded. To reload it, use:\n",
      "  %reload_ext autoreload\n"
     ]
    }
   ],
   "source": [
    "%reload_ext autoreload\n",
    "%matplotlib inline\n",
    "%load_ext autoreload\n",
    "%autoreload 2\n",
    "\n",
    "import os\n",
    "import cartopy\n",
    "import cartopy.crs as ccrs\n",
    "from cartopy.mpl.gridliner import LONGITUDE_FORMATTER, LATITUDE_FORMATTER\n",
    "from cartopy.io.img_tiles import OSM\n",
    "from cartopy.io.img_tiles import GoogleTiles as moa\n",
    "\n",
    "import glob\n",
    "\n",
    "import cartopy.feature as cfeature\n",
    "import matplotlib.pyplot as plt\n",
    "import xarray as xr\n",
    "import pyproj\n",
    "import osr\n",
    "import datetime\n",
    "import subprocess\n",
    "import shutil\n",
    "import numpy as np\n",
    "from ipywidgets import interact"
   ]
  },
  {
   "cell_type": "code",
   "execution_count": 3,
   "metadata": {},
   "outputs": [
    {
     "data": {
      "text/plain": [
       "'C:\\\\'"
      ]
     },
     "execution_count": 3,
     "metadata": {},
     "output_type": "execute_result"
    }
   ],
   "source": [
    "os.path.abspath('/')"
   ]
  },
  {
   "cell_type": "code",
   "execution_count": null,
   "metadata": {},
   "outputs": [],
   "source": [
    "#https://gportal.jaxa.jp/download/standard/GCOM-W/GCOM-W.AMSR2/L1B/2/2018/08/GW1AM2_201808271242_064A_L1SGBTBR_2220220.h5\n",
    "url_base = 'https://gportal.jaxa.jp/download/standard/GCOM-W/GCOM-W.AMSR2/'\n",
    "url_folder = '{:s}/{:s}/'\n",
    "url_template = url_base + url_folder + 'L3.TB{:s}GHz_{:s}/{:s}/{:s}/08/GW1AM2_{:s}_01D_EQMD_L3SGT{:s}{:s}{:s}2220220.h5'\n",
    "download_template = 'wget --http-user={:s} --http-password={:s} --load-cookies mycookies.txt --save-cookies mycookies.txt --keep-session-cookies --no-check-certificate --auth-no-challenge -r --reject \"index.html*\" -np -e robots=off {:s}'\n",
    "out_path = os.path.abspath('netcdf') #Can I call this when the file extention is .h5?\n",
    "if not(os.path.isdir(out_path)):\n",
    "    # prepare the output path\n",
    "    os.makedirs(out_path)\n",
    "    \n",
    "freq = '36' # 36 GhZ following Brakenridge 2007 (WRR M/C ratio paper)\n",
    "res = '3.125'  # can also be 12.5 or 25, although this depends on the chosen frequency as well\n",
    "# freq = '36' # 36 GhZ following Brakenridge 2007 (WRR M/C ratio paper)\n",
    "HV = 'V' # Horizontal or Vertical polarisation\n",
    "AD = 'D' # "
   ]
  }
 ],
 "metadata": {
  "kernelspec": {
   "display_name": "Python 3",
   "language": "python",
   "name": "python3"
  },
  "language_info": {
   "codemirror_mode": {
    "name": "ipython",
    "version": 3
   },
   "file_extension": ".py",
   "mimetype": "text/x-python",
   "name": "python",
   "nbconvert_exporter": "python",
   "pygments_lexer": "ipython3",
   "version": "3.6.5"
  }
 },
 "nbformat": 4,
 "nbformat_minor": 2
}
