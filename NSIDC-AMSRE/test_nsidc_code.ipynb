{
 "cells": [
  {
   "cell_type": "code",
   "execution_count": null,
   "metadata": {},
   "outputs": [],
   "source": [
    "%matplotlib inline\n",
    "import nsidc\n",
    "import datetime\n",
    "import xarray as xr\n",
    "import glob\n",
    "import pyproj"
   ]
  },
  {
   "cell_type": "markdown",
   "metadata": {},
   "source": [
    "First we download a slice in time for given frequency, resolution, polarization and ascending/descending\n",
    "!!! Make sure to fill in your own user pass from https://urs.earthdata.nasa.gov/ !!!\n"
   ]
  },
  {
   "cell_type": "code",
   "execution_count": null,
   "metadata": {},
   "outputs": [],
   "source": [
    "freq = '36' # 36 GhZ following Brakenridge 2007 (WRR M/C ratio paper)\n",
    "res = '25'  # can also be 12.5 or 25, although this depends on the chosen frequency as well\n",
    "# freq = '36' # 36 GhZ following Brakenridge 2007 (WRR M/C ratio paper)\n",
    "HV = 'V' # Horizontal or Vertical polarisation\n",
    "AD = 'A' # Ascending or descending, descending contains imagery during the day, probably showing more contrast\n",
    "bounds = [(-5., 0.),\n",
    "          (10., 15.),\n",
    "         ]\n",
    "\n",
    "# start_date = datetime.datetime(2002, 6, 1)\n",
    "start_date = datetime.datetime(2010, 12, 15) # date after data recovery\n",
    "end_date = datetime.datetime(2011, 1, 15) # date after data recovery\n",
    "# url = nsidc.make_measures_url(start_date, res, freq, HV, AD)\n",
    "# nsidc.make_measures_download(url, 'hesselwinsemius', 'something')\n",
    "username = 'xxxx'\n",
    "password = 'xxxx'\n",
    "# url, success = nsidc.download_measures(freq, res, HV, AD, start_date, username, password)\n",
    "fn_out_prefix = 'NSIDC_Test'\n",
    "nsidc.download_measures_ts(freq, res, HV, AD, start_date, end_date, bounds, fn_out_prefix, username, password)"
   ]
  },
  {
   "cell_type": "markdown",
   "metadata": {},
   "source": [
    "Check if some netcdf files were produced and written to folder (you should see it in the outputs above as well). Let's open the dataset and check the content of netcdf files and plot the first slicer of brightness temperatures."
   ]
  },
  {
   "cell_type": "code",
   "execution_count": null,
   "metadata": {
    "scrolled": false
   },
   "outputs": [],
   "source": [
    "fns = glob.glob('*.nc')\n",
    "fns.sort()\n",
    "ds = xr.open_mfdataset(fns, combine='nested', concat_dim='time')\n",
    "# ds = [xr.open_dataset(fn) for fn in fns] #, concat_dim='time') # , combine_nested=True, concat_dim='time')\n",
    "print(ds)\n",
    "# plot one slice as example\n",
    "ds.TB[0].plot()"
   ]
  },
  {
   "cell_type": "markdown",
   "metadata": {},
   "source": [
    "Let's compute some CM ratio for one POI (the first, go ahead and extend if you want)."
   ]
  },
  {
   "cell_type": "code",
   "execution_count": null,
   "metadata": {},
   "outputs": [],
   "source": [
    "import glob\n",
    "import xarray as xr\n",
    "import pyproj\n",
    "import nsidc\n",
    "\n",
    "fns = glob.glob('*.nc')\n",
    "fns.sort()\n",
    "ds = xr.open_mfdataset(fns, combine='nested', concat_dim='time')\n",
    "\n",
    "points_interest = [(2.4406387000000223, 6.893251099999999),\n",
    "                   (2.2999999999999545, 7.099999999999999),\n",
    "                   (2.4851462999999967, 8.0335995),\n",
    "                   (2.0499999999999545, 7.566667)\n",
    "]\n",
    "proj4str = '+proj=cea +lat_0=0 +lon_0=0 +lat_ts=30 +x_0=0 +y_0=0 +ellps=WGS84 +datum=WGS84 +units=m'\n",
    "proj_out = pyproj.Proj('epsg:4326')\n",
    "# we define a projection object for the projection used in the downloaded grids.\n",
    "proj_in = pyproj.Proj(proj4str)\n",
    "\n",
    "# here we convert the coordinates in lat-lon into the coordinate system of the downloaded grids.\n",
    "points_xy = nsidc.proj_coords(points_interest, proj_out, proj_in)\n",
    "points_xy\n",
    "\n",
    "# compute CM ratio for first point only\n",
    "x, y = points_xy[1]\n",
    "C, M, ratio = nsidc.c_m_ratio(ds['TB'], x, y)\n",
    "ratio.plot(marker='.', linewidth=0)\n"
   ]
  }
 ],
 "metadata": {
  "kernelspec": {
   "display_name": "Python 3",
   "language": "python",
   "name": "python3"
  },
  "language_info": {
   "codemirror_mode": {
    "name": "ipython",
    "version": 3
   },
   "file_extension": ".py",
   "mimetype": "text/x-python",
   "name": "python",
   "nbconvert_exporter": "python",
   "pygments_lexer": "ipython3",
   "version": "3.8.2"
  }
 },
 "nbformat": 4,
 "nbformat_minor": 4
}
