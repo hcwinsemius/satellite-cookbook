{
 "cells": [
  {
   "cell_type": "markdown",
   "metadata": {},
   "source": [
    "## C-M ratio implementation ##\n"
   ]
  },
  {
   "cell_type": "code",
   "execution_count": null,
   "metadata": {},
   "outputs": [],
   "source": [
    "%matplotlib inline\n",
    "%load_ext autoreload\n",
    "%autoreload 2\n",
    "\n",
    "import os\n",
    "import cartopy\n",
    "import cartopy.crs as ccrs\n",
    "from cartopy.mpl.gridliner import LONGITUDE_FORMATTER, LATITUDE_FORMATTER\n",
    "from cartopy.io.img_tiles import OSM\n",
    "from cartopy.io.img_tiles import GoogleTiles as moa\n",
    "\n",
    "import glob\n",
    "\n",
    "import cartopy.feature as cfeature\n",
    "import matplotlib.pyplot as plt\n",
    "import xarray as xr\n",
    "import pyproj\n",
    "import osr\n",
    "import datetime\n",
    "import subprocess\n",
    "import shutil\n",
    "import numpy as np\n",
    "from ipywidgets import interact\n",
    "\n",
    "# import our own small lib\n",
    "import nsidc"
   ]
  },
  {
   "cell_type": "markdown",
   "metadata": {},
   "source": [
    "We assume there is a dataset available to work with (downloaded with NSIDC_Measures.ipynb). If you have retrieved a complete dataset over multiple years, please continue with the following part. We will:\n",
    "- extract a time series of brightness temperatures over a river section\n",
    "- extract time series in the surroundings of river section.\n",
    "- apply the C/M ratio method (see Brakenridge et al., 2007, http://onlinelibrary.wiley.com/doi/10.1029/2006WR005238/full\n",
    "\n",
    "We start by defining gauging points of interest, and transform these into the projection system of the Measures grids."
   ]
  },
  {
   "cell_type": "code",
   "execution_count": null,
   "metadata": {},
   "outputs": [],
   "source": [
    "\n",
    "proj4str = '+proj=cea +lat_0=0 +lon_0=0 +lat_ts=30 +x_0=0 +y_0=0 +ellps=WGS84 +datum=WGS84 +units=m'\n",
    "points_interest = [(-6.565704345703125, 13.366907166629518),\n",
    "                   (-2.8667449951171875, 16.678293098288513),\n",
    "]\n",
    "\n",
    "# we define a projection object for lat-lon WGS84 (EPSG code 4326)\n",
    "proj_out = pyproj.Proj(init='epsg:4326')\n",
    "# we define a projection object for the projection used in the downloaded grids.\n",
    "proj_in = pyproj.Proj(proj4str)\n",
    "\n",
    "# here we convert the coordinates in lat-lon into the coordinate system of the downloaded grids.\n",
    "points_xy = nsidc.proj_coords(points_interest, proj_out, proj_in)\n"
   ]
  },
  {
   "cell_type": "code",
   "execution_count": null,
   "metadata": {},
   "outputs": [],
   "source": [
    "# first have a look at the points\n",
    "osm_tiles = moa()\n",
    "x, y = zip(*points_interest)\n",
    "\n",
    "plt.figure(figsize=(8, 8))\n",
    "\n",
    "# Use the tile's projection for the underlying map.\n",
    "ax = plt.axes(projection=osm_tiles.crs)\n",
    "\n",
    "# Specify a region of interest, in this case, Cardiff.\n",
    "# ax.set_extent([1, 3, 6, 9],\n",
    "#               ccrs.PlateCarree())\n",
    "\n",
    "# Add the tiles at zoom level 12.\n",
    "ax.add_image(osm_tiles, 10)\n",
    "ax.plot(x, y, color='r', marker='.', markersize=20, linewidth=0., transform=ccrs.PlateCarree())\n",
    "# ax.coastlines('10m')\n",
    "\n",
    "plt.show()"
   ]
  },
  {
   "cell_type": "code",
   "execution_count": null,
   "metadata": {},
   "outputs": [],
   "source": [
    "fns = glob.glob(r'd:\\git\\satellite-cookbook\\NSIDC-AMSRE\\netcdf\\*.nc')\n",
    "fns.sort()\n",
    "fns"
   ]
  },
  {
   "cell_type": "code",
   "execution_count": null,
   "metadata": {},
   "outputs": [],
   "source": [
    "ds = xr.open_mfdataset(fns[0:5])\n",
    "points_x, points_y = zip(*points_xy)\n",
    "\n",
    "ts = ds.sel_points(x=list(points_x), y=list(points_y), method='nearest')\n",
    "# From variable 'TB' let's plot time series sequentially\n",
    "ax = plt.subplot(111)\n",
    "for n in range(len(ts['TB'])):\n",
    "    ts['TB'][n].plot(ax=ax, marker='.', linewidth=0., label='point {:d}'.format(n + 1))\n",
    "# ax.legend()\n",
    "plt.title('Brightness temperatures at locations')\n",
    "# list(points_x)\n",
    "# ds.y"
   ]
  },
  {
   "cell_type": "markdown",
   "metadata": {},
   "source": [
    "Prepare for the selected points of interest a time series. We will save these in a list of time series 's'. After that we interactively plot the data. You can select which point you are looking at, which date, which time window around that date. Alongside the plotted date, you will see (right-hand side) a plot of the brightness temperatures over the point of interest. To-Do: make the spatial window around the point displayed also configurable."
   ]
  },
  {
   "cell_type": "code",
   "execution_count": null,
   "metadata": {},
   "outputs": [],
   "source": [
    "\n",
    "s = [nsidc.c_m_ratio(ds['TB'], x, y)[2] for x, y in zip(points_x, points_y)]\n",
    "#     s = [c_m_ratio(ds_win['TB'], x, y)[2] for ds_win, x, y in zip(window_ts, points_x, points_y)]\n",
    "\n",
    "def plot_func(idx, point, t_window, vmin, vmax):\n",
    "    t = s[point].time.values[int(idx)]\n",
    "    f = plt.figure(figsize=(12,6))\n",
    "    ax1 = f.add_subplot(121)\n",
    "    s[point].sel(time=slice(t- np.timedelta64(t_window, 'D'), t + np.timedelta64(t_window, 'D'))).plot(marker='.', linewidth=0.)\n",
    "    plt.plot([t, t], ax1.get_ylim(), 'r')\n",
    "    ax2 = f.add_subplot(122, projection=ccrs.PlateCarree())\n",
    "\n",
    "    ax2.add_feature(cfeature.LAND)\n",
    "    ax2.add_feature(cfeature.OCEAN)\n",
    "    # get a mesh of the coordinates in grid's projection\n",
    "\n",
    "    # now drape the data on the map\n",
    "    p = ax2.pcolormesh(loni, lati, ds.sel(time=t)['TB'], transform=ccrs.PlateCarree(), vmin=vmin, vmax=vmax)\n",
    "    # plot the current location in lat-lon\n",
    "    p2 = plt.plot(*nsidc.proj_coord((s[point].x, s[point].y), proj_in, proj_out), marker='x', color='r')\n",
    "    # also plot some points of interest \n",
    "    plt.colorbar(p, label='K')\n",
    "    gl = ax2.gridlines(crs=ccrs.PlateCarree(), draw_labels=True,\n",
    "                      linewidth=1, color='gray', alpha=0.5, linestyle=':')\n",
    "    gl.xlabels_top = False\n",
    "    gl.ylabels_right = False\n",
    "    gl.xformatter = LONGITUDE_FORMATTER\n",
    "\n",
    "xi, yi = np.meshgrid(ds.x, ds.y)\n",
    "\n",
    "loni, lati = pyproj.transform(proj_in, proj_out, xi, yi)\n",
    "\n",
    "# below we interactively plot!\n",
    "interact(plot_func,\n",
    "         idx=(0., len(s[0]), 1.),\n",
    "         point=range(len(s)),\n",
    "         t_window=(10, 730, 1),\n",
    "         vmin=(230, 290, 1),\n",
    "         vmax=(250, 310, 1),\n",
    "         continuous_update=False,\n",
    "        )\n"
   ]
  }
 ],
 "metadata": {
  "anaconda-cloud": {},
  "kernelspec": {
   "display_name": "Python 3",
   "language": "python",
   "name": "python3"
  },
  "language_info": {
   "codemirror_mode": {
    "name": "ipython",
    "version": 3
   },
   "file_extension": ".py",
   "mimetype": "text/x-python",
   "name": "python",
   "nbconvert_exporter": "python",
   "pygments_lexer": "ipython3",
   "version": "3.6.5"
  }
 },
 "nbformat": 4,
 "nbformat_minor": 2
}
